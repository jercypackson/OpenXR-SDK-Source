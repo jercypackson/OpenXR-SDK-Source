{
 "cells": [
  {
   "cell_type": "code",
   "execution_count": null,
   "metadata": {
    "scrolled": true
   },
   "outputs": [],
   "source": [
    "!python -m pip install umap-learn"
   ]
  },
  {
   "cell_type": "markdown",
   "metadata": {},
   "source": [
    "\n",
    "# UMAP on the MNIST Digits dataset\n",
    "\n",
    "A simple example demonstrating how to use UMAP on a larger\n",
    "dataset such as MNIST. We first pull the MNIST dataset and\n",
    "then use UMAP to reduce it to only 2-dimensions for\n",
    "easy visualisation.\n",
    "\n",
    "Note that UMAP manages to both group the individual digit\n",
    "classes, but also to retain the overall global structure\n",
    "among the different digit classes -- keeping 1 far from\n",
    "0, and grouping triplets of 3,5,8 and 4,7,9 which can\n",
    "blend into one another in some cases.\n"
   ]
  },
  {
   "cell_type": "code",
   "execution_count": 2,
   "metadata": {},
   "outputs": [],
   "source": [
    "from sklearn.datasets import fetch_openml\n",
    "mnist = fetch_openml(\"mnist_784\", version=1)"
   ]
  },
  {
   "cell_type": "code",
   "execution_count": 3,
   "metadata": {},
   "outputs": [],
   "source": [
    "import umap\n",
    "reducer = umap.UMAP(n_components=4,random_state=42)\n",
    "embedding = reducer.fit_transform(mnist.data)"
   ]
  },
  {
   "cell_type": "code",
   "execution_count": 26,
   "metadata": {},
   "outputs": [],
   "source": [
    "%%capture cap --no-stderr\n",
    "for x in embedding:\n",
    "  print(','.join([str(elem) for elem in x]))\n",
    "with open('embedding.csv', 'w+') as f:\n",
    "    f.write(cap.stdout)"
   ]
  },
  {
   "cell_type": "code",
   "execution_count": null,
   "metadata": {},
   "outputs": [],
   "source": []
  }
 ],
 "metadata": {
  "kernelspec": {
   "display_name": "Python 3",
   "language": "python",
   "name": "python3"
  },
  "language_info": {
   "codemirror_mode": {
    "name": "ipython",
    "version": 3
   },
   "file_extension": ".py",
   "mimetype": "text/x-python",
   "name": "python",
   "nbconvert_exporter": "python",
   "pygments_lexer": "ipython3",
   "version": "3.6.11"
  }
 },
 "nbformat": 4,
 "nbformat_minor": 1
}
